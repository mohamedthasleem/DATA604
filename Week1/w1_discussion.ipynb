{
 "cells": [
  {
   "cell_type": "markdown",
   "metadata": {},
   "source": [
    "<h3>Game of chance - Balls from hat</h3>\n",
    "\n",
    "Assume a hat has 20 balls, 5 red, 5 yellow, 5 green and 5 brown. We draw 3 balls at random without replacement. Lets find out the chance of getting at least one brown and one green ball?"
   ]
  },
  {
   "cell_type": "code",
   "execution_count": 15,
   "metadata": {},
   "outputs": [
    {
     "name": "stdout",
     "output_type": "stream",
     "text": [
      "From 1000 runs, we get at least one brown a one red 271 times. Probability: 27.1\n"
     ]
    }
   ],
   "source": [
    "import numpy as np\n",
    "import random\n",
    " \n",
    "def ballsfromhat():\n",
    "     \n",
    "    balls = {\"red\":5,\n",
    "            \"yellow\":5,\n",
    "            \"green\":5,\n",
    "            \"brown\":5}\n",
    "     \n",
    "    #Empty dictionary to keep the drawn balls\n",
    "    drawn = dict.fromkeys(balls.keys(), 0)\n",
    "     \n",
    "    toDraw = 3\n",
    "    for i in range(toDraw):\n",
    "        rball = random.choice(list(balls))\n",
    "         \n",
    "        balls[rball] -= 1\n",
    "        drawn[rball] += 1\n",
    "         \n",
    "    return drawn \n",
    " \n",
    "trials = 1000\n",
    "match = 0\n",
    "for i in range(trials):\n",
    "    r = ballsfromhat()\n",
    "     \n",
    "    if r[\"brown\"] >= 1 and r[\"green\"] >= 1:\n",
    "        match += 1\n",
    " \n",
    "print('From', trials, 'runs, we get at least one brown a one red', match, 'times. Probability:',\n",
    "      (match/float(trials))*100)"
   ]
  }
 ],
 "metadata": {
  "kernelspec": {
   "display_name": "Python 3",
   "language": "python",
   "name": "python3"
  },
  "language_info": {
   "codemirror_mode": {
    "name": "ipython",
    "version": 3
   },
   "file_extension": ".py",
   "mimetype": "text/x-python",
   "name": "python",
   "nbconvert_exporter": "python",
   "pygments_lexer": "ipython3",
   "version": "3.7.6"
  }
 },
 "nbformat": 4,
 "nbformat_minor": 2
}
